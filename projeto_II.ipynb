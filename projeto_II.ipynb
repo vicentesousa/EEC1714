{
 "cells": [
  {
   "cell_type": "markdown",
   "metadata": {},
   "source": [
    "# Projeto II: Comparação de modelos clássicos de canal com mobilidade e multipercursos\n",
    "\n",
    "\n",
    "## Objetivos\n",
    "As metas desse tutorial são ajudar o usuário na:\n",
    "- Pesquisar sobre o perfil atraso-potência (PDP) dos modelos do ITU-R Pedestrian A e Vehicular A;\n",
    "- Usar o PDP de tais modelos para implementar um modelo de canal TDL (Tapped Delay Line) completo, incluindo a modelagem do efeito Doppler via modelo de Jakes;\n",
    "- Discutir comparações gráficas pedidas.\n"
   ]
  },
  {
   "cell_type": "markdown",
   "metadata": {},
   "source": [
    "Este projeto visa a busca autômona e em grupo de material técnico sobre o assunto explorado na UNIDADE I da disciplina EEC1714. \n",
    "\n",
    "O aluno deve pesquisar sobre o perfil atraso-potência (PDP) dos modelos do ITU-R Pedestrian A e Vehicular A. Use o PDP de tais modelos para implementar um modelo de canal TDL (Tapped Delay Line) completo, incluindo a modelagem do efeito Doppler via modelo de Jakes. Considere velocidades de 3 Km/h e 120 km/h para canais Pedestrian A e Vehicular A, respectivamente. \n",
    "\n",
    "Mostre e disserte sobre os seguintes gráficos:\n",
    "\n",
    "1. Um gráfico com duas curvas discretas para o canal ITU-R Pedestrian A, contendo: (i) PDP teórica (extraída do modelo da ITU-R); (ii) PDP estimada pelas amostras de canal geradas pelo TDL;  \n",
    "2. Um gráfico da magnitude normalizada da envoltória do canal em função do tempo para quatro realizações diferentes do canal ITU-R Pedestrian A. Uma curva para cada realização do canal TDL. Legenda e diferentes marcadores devem diferenciar os gráficos;\n",
    "3. Um gráfico com resposta em frequência do canal (potência do canal vs frequência) para quatro realizações diferentes do canal ITU-R Pedestrian A. Legenda e diferentes marcadores devem diferenciar os gráficos.\n",
    "4. Repetir os gráficos 2.2 e 2.3 para duas realizações do canal, agora uma realização para o canal ITU-R Pedestrian A e outra para o canal ITU-R Vehicular A. Legenda e diferentes marcadores devem diferenciar os gráficos.\n",
    "\n",
    "Discuta as seguintes questões:\n",
    "1. Estime a banda de coerência dos dois canais simulados e responda se ele é seletivo ou coerente para sistemas AMPS (30kHz de banda) e para sistemas GSM (200kHz de banda). \n",
    "2. Formule matematicamente e também use o simulador para evidenciar sua resposta.\n",
    "\n",
    "Atenção: somente os gráficos não serão pontuados com nota máxima. A sua discussão é parte essencial do trabalho."
   ]
  },
  {
   "cell_type": "markdown",
   "metadata": {},
   "source": [
    "**Dica de ouro**: ver o seguinte livro: MIMO-OFDM Wireless Communications with MATLAB, Yong Soo Cho, Jaekwon Kim, Won Young Yang, Chung G. Kang, Wiley, 2010.\n"
   ]
  }
 ],
 "metadata": {
  "kernelspec": {
   "display_name": "Python 3",
   "language": "python",
   "name": "python3"
  },
  "language_info": {
   "codemirror_mode": {
    "name": "ipython",
    "version": 3
   },
   "file_extension": ".py",
   "mimetype": "text/x-python",
   "name": "python",
   "nbconvert_exporter": "python",
   "pygments_lexer": "ipython3",
   "version": "3.8.3"
  }
 },
 "nbformat": 4,
 "nbformat_minor": 4
}
