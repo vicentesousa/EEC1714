{
 "cells": [
  {
   "cell_type": "markdown",
   "metadata": {},
   "source": [
    "# Projeto I: Comparação de modelos clássicos de canal com mobilidade\n",
    "\n",
    "\n",
    "## Objetivos\n",
    "\n",
    "- Buscar material sobre os modelos clássicos de Clarke/Gans e Jakes;\n",
    "- Gerar material compacto escrito sobre os modelos;\n",
    "- Codificar cada modelo e discutir comparações gráficas pedidas.\n"
   ]
  },
  {
   "cell_type": "markdown",
   "metadata": {},
   "source": [
    "## Descrição do projeto\n",
    "\n",
    "Este projeto visa a busca autômona e em grupo de material técnico sobre o assunto explorado na UNIDADE I da disciplina EEC1714. \n",
    "\n",
    "O aluno deve pesquisar sobre os modelos de Clarke/Gans e Jakes. Baixar o artigo (ou livro) que o modelo foi apresentado para o mundo escrever um texto objetivo (e com ilustrações) sobre cada modelo, especificando: objetivo do modelo, principais considerações, comportamento do doppler power spectrum (formulação), comportamento do spaced-time correlation function (formulação) e maneiras diferentes de implementar (no máximo duas páginas para cada modelo).\n",
    "\n",
    "Faça uma tabela comparando cada aspecto indicado acima para os dois modelos.\n",
    "\n",
    "| Característica/Modelo    | Clark/Gans | Jakes |\n",
    "|--------------------------|------------|-------|\n",
    "| Objetivo                 |            |       |\n",
    "| Principais considerações |            |       |\n",
    "| Doppler power spectrum (formulação) |            |       |\n",
    "| Spaced-time correlation function (formulação) |            |       |\n",
    "| Implementações |            |       |\n",
    "\n",
    "\n",
    "Mostre e disserte sobre os seguintes gráficos:\n",
    "\n",
    "1. Gráfico da Magnitude normalizada da envoltória do canal em função do tempo para as velocidades 3 km/h, 60 km/h e 120 km/h (feito através de amostras de canal geradas pelo modelo de Clark/Gans);\n",
    "2. Histograma da Magnitude normalizada da envoltória do canal para as velocidades 3 km/h, 60 km/h e 120 km/h (feito através de amostras de canal geradas pelo modelo de Clark/Gans);\n",
    "3. Histograma da fase da envoltória do canal para as velocidades 3 km/h, 60 km/h e 120 km/h (feito através de amostras de canal geradas pelo modelo de Clark/Gans);\n",
    "4. Gráfico teórico (clássico) da autocorrelação (spaced-time correlation function) para as velocidades 3 km/h, 60 km/h e 120 km/h;\n",
    "5. Gráfico da autorrelação estimada pelas amostras de canal geradas pelo modelo de Clark/Gans para as velocidades 3 km/h, 60 km/h e 120 km/h (essa curva deve ser plotado no mesmo gráfico do item 1.4. Legenda e diferentes marcadores devem diferenciar as duas curvas);\n",
    "6. Gráfico teórico (clássico) do espectro doppler (doppler power spectrum) para as velocidades 3 km/h, 60 km/h e 120 km/h;\n",
    "7. Gráfico do espectro doppler estimado pelas amostras de canal geradas pelo modelo de Clark/Gans para as velocidades 3 km/h, 60 km/h e 120 km/h (essa curva deve ser plotado no mesmo gráfico do item 1.6. Legenda e diferentes marcadores devem diferenciar as duas curvas);\n",
    "8. Repetir os gráficos 1.1 à 1.7 para o modelo de Jakes;\n",
    "9. Fazer um gráfico com as seguintes curvas para 60 km/h: (i) teórica (clássica) da autocorrelação (spaced-time correlation function); (ii) autorrelação estimada pelas amostras de canal geradas pelo modelo de Clark/Gans; (iii) autorrelação estimada pelas amostras de canal geradas pelo modelo de Jakes.\n",
    "\n",
    "Discuta as seguintes questões:\n",
    "1. Quando uma onda digital é transmitida usando um tempo de símbolo de 500µs e uma frequência de portadora de fc = 1900 MHz, como será a seletividade no tempo do canal para velocidades 3 km/h, 60 km/h e 120 km/h? formule matematicamente e também use o simulador para evidenciar sua resposta.\n",
    "2. Existe alguma diferença significativa entre as propriedades de autorrelação quando comparamos os modelos de Clark/Gans e Jakes? use o simulador para evidenciar sua resposta.\n"
   ]
  },
  {
   "cell_type": "markdown",
   "metadata": {},
   "source": [
    "**Dica de ouro**: ver o seguinte livro: MIMO-OFDM Wireless Communications with MATLAB, Yong Soo Cho, Jaekwon Kim, Won Young Yang, Chung G. Kang, Wiley, 2010.\n"
   ]
  }
 ],
 "metadata": {
  "kernelspec": {
   "display_name": "Python 3",
   "language": "python",
   "name": "python3"
  },
  "language_info": {
   "codemirror_mode": {
    "name": "ipython",
    "version": 3
   },
   "file_extension": ".py",
   "mimetype": "text/x-python",
   "name": "python",
   "nbconvert_exporter": "python",
   "pygments_lexer": "ipython3",
   "version": "3.8.3"
  }
 },
 "nbformat": 4,
 "nbformat_minor": 4
}
